{
 "cells": [
  {
   "cell_type": "code",
   "execution_count": 202,
   "id": "f2c7f824",
   "metadata": {
    "pycharm": {
     "name": "#%%\n"
    }
   },
   "outputs": [],
   "source": [
    "# Dependencies\n",
    "import requests\n",
    "import pandas as pd\n",
    "import numpy as np\n",
    "\n",
    "import matplotlib.pyplot as plt"
   ]
  },
  {
   "cell_type": "code",
   "execution_count": 203,
   "id": "343a1a50",
   "metadata": {
    "pycharm": {
     "name": "#%%\n"
    }
   },
   "outputs": [],
   "source": [
    "# Define URL parameters\n",
    "league_id = \"432959547\"\n",
    "year = 2024\n",
    "week = 2"
   ]
  },
  {
   "cell_type": "code",
   "execution_count": 204,
   "id": "3cfb4691",
   "metadata": {
    "pycharm": {
     "name": "#%%\n"
    }
   },
   "outputs": [],
   "source": [
    "# Define cookie parameters\n",
    "espn_s2 = 'AEAGstGzfVapLBUQjvAdZ6GzYXnNn%2F6zaJ1aKBaGfodSbZlAvSQCksL5cBPrQ2nvyg5B72c8fSTcMW1iUMMvVr9l9xF0WsaJz%2Fikact6HAV52u1AfskuMr1N9%2FxfssqkMhkJtnXMp3RxvVqMqvYI9GG%2FnpJBt7rTy%2BojPYRqFzOiodrozlh9%2F%2FwVppny6vLdnZMgV2RrJCbA4cGGTIWXHZJhMFFCuyrMGp6z3zoTAlGtif%2FRZCeD2gs4HQXBGPKtqzBPBeyBgiG1BJsBGmPUuv4PRKsEQibW%2Fs1ka3jCHfRUg87NAu%2B%2F6xJI1k7jX3VjVYU%3D'\n",
    "    \n",
    "swid = '{534A91A4-961E-4087-BE49-51DCDD461E9C}'"
   ]
  },
  {
   "cell_type": "code",
   "execution_count": 205,
   "id": "05b0477d",
   "metadata": {
    "pycharm": {
     "name": "#%%\n"
    }
   },
   "outputs": [],
   "source": [
    "# Define the URL with our parameters\n",
    "url = f\"https://lm-api-reads.fantasy.espn.com/apis/v3/games/ffl/seasons/{year}/segments/0/leagues/{league_id}\"\n",
    "# headers = {\n",
    "#     'Connection': 'keep-alive',\n",
    "#     'User-Agent': 'Mozilla/5.0 (Windows NT 10.0; Win64; x64) AppleWebKit/537.36 (KHTML, like Gecko) Chrome/120.0.0.0 Safari/537.36',\n",
    "#     'Accept': 'application/json',\n",
    "# }\n"
   ]
  },
  {
   "cell_type": "code",
   "execution_count": 206,
   "id": "ba50d31e",
   "metadata": {
    "pycharm": {
     "name": "#%%\n"
    }
   },
   "outputs": [],
   "source": [
    "# Pull team and matchup data from the URL\n",
    "matchup_response = requests.get(url, \n",
    "                            #     headers=headers,\n",
    "                                params={\"leagueId\" : league_id,\n",
    "                                       \"seasonId\" : year,\n",
    "                                       \"matchupPeriodId\" : week,\n",
    "                                       \"view\": \"mMatchup\"},\n",
    "                               cookies={\"swid\" : swid,\n",
    "                                       \"espn_s2\" : espn_s2})\n",
    "\n",
    "team_response = requests.get(url, \n",
    "                            #     headers=headers,\n",
    "                                params={\"leagueId\" : league_id,\n",
    "                                       \"seasonId\" : year,\n",
    "                                       \"matchupPeriodId\" : week,\n",
    "                                       \"view\": \"mTeam\"},\n",
    "                                cookies={\"swid\" : swid,\n",
    "                                       \"espn_s2\" : espn_s2},)"
   ]
  },
  {
   "cell_type": "code",
   "execution_count": 207,
   "id": "c030f6ad",
   "metadata": {},
   "outputs": [
    {
     "name": "stdout",
     "output_type": "stream",
     "text": [
      "Status Code: 200\n",
      "application/json;charset=utf-8\n"
     ]
    }
   ],
   "source": [
    "print(f\"Status Code: {matchup_response.status_code}\")\n",
    "print(matchup_response.headers.get(\"Content-Type\"))"
   ]
  },
  {
   "cell_type": "code",
   "execution_count": 208,
   "id": "7573382b",
   "metadata": {
    "pycharm": {
     "name": "#%%\n"
    }
   },
   "outputs": [],
   "source": [
    "# Transform the response into a json\n",
    "matchup_json = matchup_response.json()\n",
    "team_json = team_response.json()"
   ]
  },
  {
   "cell_type": "code",
   "execution_count": 209,
   "id": "558675a5",
   "metadata": {
    "pycharm": {
     "name": "#%%\n"
    }
   },
   "outputs": [],
   "source": [
    "# Transform both of the json outputs into DataFrames\n",
    "matchup_df = pd.json_normalize(matchup_json['schedule'])\n",
    "team_df = pd.json_normalize(team_json['teams'])"
   ]
  },
  {
   "cell_type": "code",
   "execution_count": 210,
   "id": "c24fc8a6",
   "metadata": {
    "pycharm": {
     "name": "#%%\n"
    }
   },
   "outputs": [],
   "source": [
    "# Define the column names needed\n",
    "matchup_column_names = {\n",
    "    'matchupPeriodId':'Week', \n",
    "    'away.teamId':'Team1', \n",
    "    'away.totalPoints':'Score1',\n",
    "    'home.teamId':'Team2', \n",
    "    'home.totalPoints':'Score2',\n",
    "}\n",
    "\n",
    "team_column_names = {\n",
    "    'id':'id',\n",
    "    'name':'name'\n",
    "}\n",
    "\n",
    "# Reindex based on column names defined above\n",
    "matchup_df = matchup_df.reindex(columns=matchup_column_names).rename(columns=matchup_column_names)\n",
    "team_df = team_df.reindex(columns=team_column_names).rename(columns=team_column_names)"
   ]
  },
  {
   "cell_type": "code",
   "execution_count": 211,
   "id": "b9e494f4",
   "metadata": {
    "pycharm": {
     "name": "#%%\n"
    }
   },
   "outputs": [],
   "source": [
    "# Add a new column for regular/playoff game based on week number\n",
    "matchup_df['Type'] = ['Regular' if week<=13 else 'Playoff' for week in matchup_df['Week']]\n",
    "\n",
    "# Drop all columns except id and name\n",
    "team_df = team_df.filter(['id', 'name'])"
   ]
  },
  {
   "cell_type": "code",
   "execution_count": 212,
   "id": "02587b89",
   "metadata": {
    "pycharm": {
     "name": "#%%\n"
    }
   },
   "outputs": [],
   "source": [
    "# (1) Rename Team1 column to id\n",
    "matchup_df = matchup_df.rename(columns={\"Team1\":\"id\"})\n",
    "\n",
    "# (1) Merge DataFrames to get team names instead of ids and rename Name2 column to Name1\n",
    "matchup_df = matchup_df.merge(team_df, on=['id'], how='left')\n",
    "matchup_df = matchup_df.rename(columns={'name':'Name1'})\n",
    "\n",
    "# (1) Drop the id column and reorder columns\n",
    "matchup_df = matchup_df[['Week', 'Name1', 'Score1', 'Team2', 'Score2', 'Type']]"
   ]
  },
  {
   "cell_type": "code",
   "execution_count": 213,
   "id": "992ed39d",
   "metadata": {
    "pycharm": {
     "name": "#%%\n"
    }
   },
   "outputs": [],
   "source": [
    "# (2) Rename Team1 column to id\n",
    "matchup_df = matchup_df.rename(columns={\"Team2\":\"id\"})\n",
    "\n",
    "# (2) Merge DataFrames to get team names instead of ids and rename Name2 column to Name2\n",
    "matchup_df = matchup_df.merge(team_df, on=['id'], how='left')\n",
    "matchup_df = matchup_df.rename(columns={'name':'Name2'})\n",
    "\n",
    "# (2) Drop the id column and reorder columns\n",
    "matchup_df = matchup_df[['Week', 'Name1', 'Score1', 'Name2', 'Score2', 'Type']]"
   ]
  },
  {
   "cell_type": "code",
   "execution_count": 214,
   "id": "62437cb6",
   "metadata": {
    "pycharm": {
     "name": "#%%\n"
    }
   },
   "outputs": [
    {
     "data": {
      "text/html": [
       "<div>\n",
       "<style scoped>\n",
       "    .dataframe tbody tr th:only-of-type {\n",
       "        vertical-align: middle;\n",
       "    }\n",
       "\n",
       "    .dataframe tbody tr th {\n",
       "        vertical-align: top;\n",
       "    }\n",
       "\n",
       "    .dataframe thead th {\n",
       "        text-align: right;\n",
       "    }\n",
       "</style>\n",
       "<table border=\"1\" class=\"dataframe\">\n",
       "  <thead>\n",
       "    <tr style=\"text-align: right;\">\n",
       "      <th></th>\n",
       "      <th>Week</th>\n",
       "      <th>Name1</th>\n",
       "      <th>Score1</th>\n",
       "      <th>Name2</th>\n",
       "      <th>Score2</th>\n",
       "      <th>Type</th>\n",
       "    </tr>\n",
       "  </thead>\n",
       "  <tbody>\n",
       "    <tr>\n",
       "      <th>5</th>\n",
       "      <td>2</td>\n",
       "      <td>Farmer Joes</td>\n",
       "      <td>97.14</td>\n",
       "      <td>ABs 2015</td>\n",
       "      <td>152.38</td>\n",
       "      <td>Regular</td>\n",
       "    </tr>\n",
       "    <tr>\n",
       "      <th>6</th>\n",
       "      <td>2</td>\n",
       "      <td>mes que un club</td>\n",
       "      <td>104.82</td>\n",
       "      <td>Synthetic CollateralDebtOb’s</td>\n",
       "      <td>118.76</td>\n",
       "      <td>Regular</td>\n",
       "    </tr>\n",
       "    <tr>\n",
       "      <th>7</th>\n",
       "      <td>2</td>\n",
       "      <td>i Chase Young kids</td>\n",
       "      <td>105.46</td>\n",
       "      <td>The B Team</td>\n",
       "      <td>138.78</td>\n",
       "      <td>Regular</td>\n",
       "    </tr>\n",
       "    <tr>\n",
       "      <th>8</th>\n",
       "      <td>2</td>\n",
       "      <td>The Doofs</td>\n",
       "      <td>92.84</td>\n",
       "      <td>Team Emoney</td>\n",
       "      <td>145.34</td>\n",
       "      <td>Regular</td>\n",
       "    </tr>\n",
       "    <tr>\n",
       "      <th>9</th>\n",
       "      <td>2</td>\n",
       "      <td>Team Man in Hum</td>\n",
       "      <td>158.42</td>\n",
       "      <td>MAKE IT BOOM</td>\n",
       "      <td>98.90</td>\n",
       "      <td>Regular</td>\n",
       "    </tr>\n",
       "  </tbody>\n",
       "</table>\n",
       "</div>"
      ],
      "text/plain": [
       "   Week                Name1  Score1                          Name2  Score2  \\\n",
       "5     2          Farmer Joes   97.14                       ABs 2015  152.38   \n",
       "6     2      mes que un club  104.82  Synthetic CollateralDebtOb’s   118.76   \n",
       "7     2  i Chase Young kids   105.46                     The B Team  138.78   \n",
       "8     2            The Doofs   92.84                    Team Emoney  145.34   \n",
       "9     2      Team Man in Hum  158.42                   MAKE IT BOOM   98.90   \n",
       "\n",
       "      Type  \n",
       "5  Regular  \n",
       "6  Regular  \n",
       "7  Regular  \n",
       "8  Regular  \n",
       "9  Regular  "
      ]
     },
     "execution_count": 214,
     "metadata": {},
     "output_type": "execute_result"
    }
   ],
   "source": [
    "# Filter down to the week in question\n",
    "week_matchup_df = matchup_df[matchup_df['Week'] == week]\n",
    "\n",
    "week_matchup_df"
   ]
  },
  {
   "cell_type": "code",
   "execution_count": 215,
   "id": "322b5a31",
   "metadata": {
    "pycharm": {
     "name": "#%%\n"
    }
   },
   "outputs": [],
   "source": [
    "away_win_df = week_matchup_df[week_matchup_df['Score1'] > week_matchup_df['Score2']].reset_index()\n",
    "\n",
    "away_loss_df = week_matchup_df[week_matchup_df['Score1'] < week_matchup_df['Score2']].reset_index()\n",
    "\n",
    "home_win_df = week_matchup_df[week_matchup_df['Score2'] > week_matchup_df['Score1']].reset_index()\n",
    "\n",
    "home_loss_df = week_matchup_df[week_matchup_df['Score2'] < week_matchup_df['Score1']].reset_index()"
   ]
  },
  {
   "cell_type": "code",
   "execution_count": 216,
   "id": "f9d11bd2",
   "metadata": {
    "pycharm": {
     "name": "#%%\n"
    }
   },
   "outputs": [
    {
     "data": {
      "text/plain": [
       "np.float64(121.28399999999999)"
      ]
     },
     "execution_count": 216,
     "metadata": {},
     "output_type": "execute_result"
    }
   ],
   "source": [
    "# Calculate average score for the week\n",
    "average_score = (week_matchup_df['Score1'].sum() + week_matchup_df['Score2'].sum()) / 10\n",
    "\n",
    "average_score"
   ]
  },
  {
   "cell_type": "code",
   "execution_count": 217,
   "id": "ee4399dc",
   "metadata": {
    "pycharm": {
     "name": "#%%\n"
    }
   },
   "outputs": [
    {
     "data": {
      "image/png": "[encoded data removed]",
      "text/plain": [
       "<Figure size 1200x1200 with 1 Axes>"
      ]
     },
     "metadata": {},
     "output_type": "display_data"
    }
   ],
   "source": [
    "# Define plot size and autolayout\n",
    "plt.rcParams[\"figure.figsize\"] = [12, 12]\n",
    "#plt.rcParams[\"figure.autolayout\"] = True\n",
    "\n",
    "# Define the subplot\n",
    "fig, ax = plt.subplots()\n",
    "\n",
    "\n",
    "# Plot the data\n",
    "plt.scatter(away_win_df['Score1']- average_score, away_win_df['Score2'] - average_score, marker='s', c='green', s=300)\n",
    "plt.scatter(away_loss_df['Score1'] - average_score, away_loss_df['Score2'] - average_score, marker='X', c='red', s=300)\n",
    "plt.scatter(home_win_df['Score2']- average_score, home_win_df['Score1'] - average_score, marker='s', c='green', s=300)\n",
    "plt.scatter(home_loss_df['Score2'] - average_score, home_loss_df['Score1']- average_score, marker='X', c='red', s=300)\n",
    "\n",
    "# Loop through and annotate the away team names on the chart\n",
    "for name in range(0, 10):\n",
    "    try:\n",
    "        plt.annotate(away_win_df['Name1'][name], (away_win_df['Score1'][name] - average_score, away_win_df['Score2'][name] - average_score), fontsize=10)\n",
    "    except:\n",
    "        pass\n",
    "    try:\n",
    "        plt.annotate(away_loss_df['Name1'][name], (away_loss_df['Score1'][name] - average_score, away_loss_df['Score2'][name] - average_score), fontsize=10)\n",
    "    except:\n",
    "        pass\n",
    "    try:\n",
    "        plt.annotate(home_win_df['Name2'][name], (home_win_df['Score2'][name] - average_score, home_win_df['Score1'][name] - average_score), fontsize=10)\n",
    "    except:\n",
    "        pass\n",
    "    try:\n",
    "        plt.annotate(home_loss_df['Name2'][name], (home_loss_df['Score2'][name] - average_score, home_loss_df['Score1'][name] - average_score), fontsize=10)\n",
    "    except:\n",
    "        pass\n",
    "\n",
    "\n",
    "# Define axes' ranges - make this dynamic later\n",
    "plt.xlim((-50, 50))\n",
    "plt.ylim((-50, 50))\n",
    "\n",
    "\n",
    "# Move left y-axis and bottom x-axis to centre, passing through (0,0)\n",
    "ax.spines['left'].set_position('center')\n",
    "ax.spines['bottom'].set_position('center')\n",
    "ax.spines['top'].set_position('center')\n",
    "ax.spines['right'].set_position('center')\n",
    "\n",
    "# Annotate the quadrants\n",
    "plt.annotate(\"Unlucky Loss /\\n Tough Win Zone\", (1,5), fontsize=12);\n",
    "plt.annotate(\"Lucky Win /\\n Missed Opportunity Zone\", (-25, -10), fontsize=12);\n",
    "\n",
    "# Chart title\n",
    "plt.title(\n",
    "    f\"Borg Housing Corp - Week {1}: Matchup Matrix\\n X-axis: Team Score +/- Average, Y-axis: Opponent score +/- Average\",\n",
    "    fontdict={'fontsize':20});"
   ]
  },
  {
   "cell_type": "code",
   "execution_count": null,
   "id": "42736abd-a331-4b5f-8601-693b16d69d18",
   "metadata": {},
   "outputs": [],
   "source": []
  }
 ],
 "metadata": {
  "kernelspec": {
   "display_name": "Python 3 (ipykernel)",
   "language": "python",
   "name": "python3"
  },
  "language_info": {
   "codemirror_mode": {
    "name": "ipython",
    "version": 3
   },
   "file_extension": ".py",
   "mimetype": "text/x-python",
   "name": "python",
   "nbconvert_exporter": "python",
   "pygments_lexer": "ipython3",
   "version": "3.12.4"
  }
 },
 "nbformat": 4,
 "nbformat_minor": 5
}
